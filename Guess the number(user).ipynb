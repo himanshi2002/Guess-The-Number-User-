{
 "cells": [
  {
   "cell_type": "markdown",
   "metadata": {},
   "source": [
    "In this the computer will guess the number and the user have to tell whether that number is correct or not"
   ]
  },
  {
   "cell_type": "code",
   "execution_count": 2,
   "metadata": {},
   "outputs": [],
   "source": [
    "import random"
   ]
  },
  {
   "cell_type": "code",
   "execution_count": 3,
   "metadata": {},
   "outputs": [
    {
     "name": "stdout",
     "output_type": "stream",
     "text": [
      "is 6 too high('h'), or too low ('l') or correct('c').h\n",
      "is 1 too high('h'), or too low ('l') or correct('c').c\n",
      "Yay you guessed it correctly\n",
      "The number was 1\n"
     ]
    }
   ],
   "source": [
    "def guess_user(x):\n",
    "    low=1\n",
    "    high=10\n",
    "    feedback=\"\"\n",
    "    while feedback!=\"c\":\n",
    "        if low!=high:\n",
    "            guess=random.randint(low,high)\n",
    "        else:\n",
    "            guess=low  # low and high are equal\n",
    "        feedback=input(f\"Is {guess} too high('h'), or too low ('l') or correct('c').\".lower()) # this lower() will take all the values in lower case\n",
    "        if feedback==\"h\":\n",
    "            high=guess-1\n",
    "        elif feedback==\"l\":\n",
    "            low=guess+1\n",
    "    print(\"Yay the computer guessed it correctly\")\n",
    "    print(f\"The number was {guess}\")\n",
    "guess_user(10)"
   ]
  },
  {
   "cell_type": "code",
   "execution_count": null,
   "metadata": {},
   "outputs": [],
   "source": []
  }
 ],
 "metadata": {
  "kernelspec": {
   "display_name": "Python 3",
   "language": "python",
   "name": "python3"
  },
  "language_info": {
   "codemirror_mode": {
    "name": "ipython",
    "version": 3
   },
   "file_extension": ".py",
   "mimetype": "text/x-python",
   "name": "python",
   "nbconvert_exporter": "python",
   "pygments_lexer": "ipython3",
   "version": "3.8.3"
  }
 },
 "nbformat": 4,
 "nbformat_minor": 4
}
